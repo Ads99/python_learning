{
 "cells": [
  {
   "cell_type": "markdown",
   "id": "8fb9e924",
   "metadata": {},
   "source": [
    "### A random selection of questions and answers related to arryays, lists etc."
   ]
  },
  {
   "cell_type": "markdown",
   "id": "040b086d",
   "metadata": {},
   "source": [
    "##### Find the max no from the given set of elements in an array (without using max function)"
   ]
  },
  {
   "cell_type": "code",
   "execution_count": 9,
   "id": "18c726c2",
   "metadata": {},
   "outputs": [],
   "source": [
    "import math"
   ]
  },
  {
   "cell_type": "code",
   "execution_count": 2,
   "id": "94b529bf",
   "metadata": {},
   "outputs": [],
   "source": [
    "n_arr = [45, 32, -23.4, 476, 3]"
   ]
  },
  {
   "cell_type": "code",
   "execution_count": 11,
   "id": "7829a77a",
   "metadata": {},
   "outputs": [],
   "source": [
    "def minmax(x):\n",
    "    if len(x) == 0:\n",
    "        return math.nan\n",
    "    minimum = maximum = x[0]\n",
    "    for i in x[1:]:\n",
    "        if i < minimum:\n",
    "            minimum = i\n",
    "        else:\n",
    "            if i > maximum:\n",
    "                maximum = i\n",
    "    return (minimum, maximum)"
   ]
  },
  {
   "cell_type": "code",
   "execution_count": 5,
   "id": "83963d75",
   "metadata": {},
   "outputs": [
    {
     "data": {
      "text/plain": [
       "(-23.4, 476)"
      ]
     },
     "execution_count": 5,
     "metadata": {},
     "output_type": "execute_result"
    }
   ],
   "source": [
    "minmax(n_arr)"
   ]
  },
  {
   "cell_type": "code",
   "execution_count": 12,
   "id": "51bfcb6d",
   "metadata": {},
   "outputs": [
    {
     "data": {
      "text/plain": [
       "nan"
      ]
     },
     "execution_count": 12,
     "metadata": {},
     "output_type": "execute_result"
    }
   ],
   "source": [
    "minmax([])"
   ]
  },
  {
   "cell_type": "markdown",
   "id": "c038cd9e",
   "metadata": {},
   "source": [
    "##### Find the minimum absolute difference between the set of elements of an array."
   ]
  },
  {
   "cell_type": "code",
   "execution_count": 19,
   "id": "e3fc1d2e",
   "metadata": {},
   "outputs": [],
   "source": [
    "def absdiff(x):\n",
    "    minimum = minmax(x)[0]\n",
    "    maximum = minmax(x)[1]\n",
    "    return (maximum - minimum)"
   ]
  },
  {
   "cell_type": "code",
   "execution_count": 20,
   "id": "61617607",
   "metadata": {},
   "outputs": [
    {
     "data": {
      "text/plain": [
       "499.4"
      ]
     },
     "execution_count": 20,
     "metadata": {},
     "output_type": "execute_result"
    }
   ],
   "source": [
    "absdiff(n_arr)"
   ]
  },
  {
   "cell_type": "markdown",
   "id": "bf582bc6",
   "metadata": {},
   "source": [
    "##### Python Coding Questions that involved a hashmap. Know your basics well\n",
    "\n",
    "###### Two Sum (from LeetCode: https://www.youtube.com/watch?v=KLlXCFG5TnA)\n",
    "\n",
    "Given an array of integers, return **indices** of the two numbers such that they add up to a specific target.\n",
    "\n",
    "You may assume that each input would have ***exactly*** one solution, and you may not use the *same* element twice\n",
    "\n",
    "**Example**:\n",
    "Given nums = [2, 7, 11, 15], target = 9\n",
    "Because nums[0] + nums[1] = 2 + 7 = 9, return [0, 1]"
   ]
  },
  {
   "cell_type": "code",
   "execution_count": 29,
   "id": "415a04e9",
   "metadata": {},
   "outputs": [],
   "source": [
    "class Solution:\n",
    "    def twoSum(self, nums, target):\n",
    "        prevMap = {} # val : index\n",
    "        \n",
    "        for i, n in enumerate(nums):\n",
    "            diff = target - n\n",
    "            if diff in prevMap:\n",
    "                return [prevMap[diff], i]\n",
    "            prevMap[n] = i\n",
    "        return"
   ]
  },
  {
   "cell_type": "code",
   "execution_count": 30,
   "id": "3f67518b",
   "metadata": {},
   "outputs": [
    {
     "data": {
      "text/plain": [
       "[0, 2]"
      ]
     },
     "execution_count": 30,
     "metadata": {},
     "output_type": "execute_result"
    }
   ],
   "source": [
    "sol = Solution()\n",
    "sol.twoSum([1,5,6,9], 7)"
   ]
  },
  {
   "cell_type": "markdown",
   "id": "9ef571ac",
   "metadata": {},
   "source": [
    "##### Print Max element of a given list"
   ]
  },
  {
   "cell_type": "markdown",
   "id": "0c0a5a70",
   "metadata": {},
   "source": [
    "##### Print median of a given list"
   ]
  },
  {
   "cell_type": "code",
   "execution_count": 45,
   "id": "362040f5",
   "metadata": {},
   "outputs": [
    {
     "data": {
      "text/plain": [
       "3.5"
      ]
     },
     "execution_count": 45,
     "metadata": {},
     "output_type": "execute_result"
    }
   ],
   "source": [
    "def listmed(l):\n",
    "    l = sorted(l)\n",
    "    med = len(l) // 2\n",
    "    if len(l) % 2 > 0:\n",
    "        return l[med]\n",
    "    else:\n",
    "        med = int(med // 1)\n",
    "        return ((l[med] + l[med+1]) / 2)\n",
    "\n",
    "listmed([1,2,3,4])"
   ]
  },
  {
   "cell_type": "code",
   "execution_count": 46,
   "id": "d3008950",
   "metadata": {},
   "outputs": [
    {
     "data": {
      "text/plain": [
       "9"
      ]
     },
     "execution_count": 46,
     "metadata": {},
     "output_type": "execute_result"
    }
   ],
   "source": [
    "listmed([9,45,2])"
   ]
  },
  {
   "cell_type": "markdown",
   "id": "110abf02",
   "metadata": {},
   "source": [
    "##### Print the first nonrecurring element in a list"
   ]
  },
  {
   "cell_type": "code",
   "execution_count": 54,
   "id": "6988dd3b",
   "metadata": {},
   "outputs": [],
   "source": [
    "def first_non_recurring(l):\n",
    "    l = sorted(l)\n",
    "    unique_vals = []\n",
    "    counts = {}\n",
    "    \n",
    "    # Map values to a dictionary and append to unique vals array\n",
    "    for i in l:\n",
    "        if i in counts:\n",
    "            counts[i] += 1\n",
    "        else:\n",
    "            counts[i] = 1\n",
    "            unique_vals.append(i)\n",
    "    \n",
    "    # Now loop through unique vals array and ascertain if count == 1\n",
    "    for i in unique_vals:\n",
    "        if counts[i] == 1:\n",
    "            return i\n",
    "    return None"
   ]
  },
  {
   "cell_type": "code",
   "execution_count": 55,
   "id": "d37fbbcb",
   "metadata": {},
   "outputs": [
    {
     "data": {
      "text/plain": [
       "2"
      ]
     },
     "execution_count": 55,
     "metadata": {},
     "output_type": "execute_result"
    }
   ],
   "source": [
    "first_non_recurring([1,1,2,3,4])"
   ]
  },
  {
   "cell_type": "markdown",
   "id": "bdc6ab41",
   "metadata": {},
   "source": [
    "##### Print the most recurring element in a list"
   ]
  },
  {
   "cell_type": "markdown",
   "id": "fc69c2fe",
   "metadata": {},
   "source": [
    "##### HCF/Greatest common Factor of List"
   ]
  },
  {
   "cell_type": "markdown",
   "id": "2b37d863",
   "metadata": {},
   "source": [
    "##### LCM of list"
   ]
  },
  {
   "cell_type": "code",
   "execution_count": null,
   "id": "b1661da2",
   "metadata": {},
   "outputs": [],
   "source": []
  }
 ],
 "metadata": {
  "kernelspec": {
   "display_name": "Python 3",
   "language": "python",
   "name": "python3"
  },
  "language_info": {
   "codemirror_mode": {
    "name": "ipython",
    "version": 3
   },
   "file_extension": ".py",
   "mimetype": "text/x-python",
   "name": "python",
   "nbconvert_exporter": "python",
   "pygments_lexer": "ipython3",
   "version": "3.8.3"
  }
 },
 "nbformat": 4,
 "nbformat_minor": 5
}
