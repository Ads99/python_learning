{
 "cells": [
  {
   "cell_type": "markdown",
   "id": "db9647cf",
   "metadata": {},
   "source": [
    "### Understanding Descriptive Statistics\n",
    "\n",
    "Descriptive statistics is about describing and summarising data using 2 main approaches:\n",
    "\n",
    "1) Quantitative Approach - describes and summarises data numerically\n",
    "\n",
    "2) Visual Approach - illustrates data with charts, plots, histograms and other charts\n",
    "\n",
    "When you describe and summarise a single variable you're performing a **univariate analysis**. When you search for statistical relationships among a pair of variables you're doing a **bivariate** analysis. Similarly a **multivariate analysis** is concerned with multiple variables at once."
   ]
  },
  {
   "cell_type": "markdown",
   "id": "1fe5133e",
   "metadata": {},
   "source": [
    "#### Types of Measures\n",
    "- **Central tendency** tells you about the centres of the data. Useful measures include the mean, median and mode\n",
    "- **Variability** tells you about the spread of data. Useful measures includes variance and standard deviation\n",
    "- **Correlation or joint variability** tells you about the relation between a pair of variables in a dataset. Useful measures include covariance and the **correlation coefficient** "
   ]
  },
  {
   "cell_type": "markdown",
   "id": "bfc91219",
   "metadata": {},
   "source": [
    "### Calculating Descriptive Statistics"
   ]
  },
  {
   "cell_type": "code",
   "execution_count": 1,
   "id": "9e3b492e",
   "metadata": {},
   "outputs": [],
   "source": [
    "import math\n",
    "import statistics\n",
    "import numpy as np\n",
    "import scipy.stats\n",
    "import pandas as pd"
   ]
  },
  {
   "cell_type": "markdown",
   "id": "d0afed27",
   "metadata": {},
   "source": [
    "We'll start with Python lists that contain some arbitrary numeric data"
   ]
  },
  {
   "cell_type": "code",
   "execution_count": 2,
   "id": "61837136",
   "metadata": {},
   "outputs": [
    {
     "data": {
      "text/plain": [
       "[8.0, 1, 2.5, 4, 28.0]"
      ]
     },
     "execution_count": 2,
     "metadata": {},
     "output_type": "execute_result"
    }
   ],
   "source": [
    "x = [8.0, 1, 2.5, 4, 28.0]\n",
    "x_with_nan = [8.0, 1, 2.5, math.nan, 4, 28.0]\n",
    "x"
   ]
  },
  {
   "cell_type": "code",
   "execution_count": 3,
   "id": "4edd4e90",
   "metadata": {},
   "outputs": [
    {
     "data": {
      "text/plain": [
       "[8.0, 1, 2.5, nan, 4, 28.0]"
      ]
     },
     "execution_count": 3,
     "metadata": {},
     "output_type": "execute_result"
    }
   ],
   "source": [
    "x_with_nan"
   ]
  },
  {
   "cell_type": "markdown",
   "id": "7c1c0d00",
   "metadata": {},
   "source": [
    "Now, create np.ndarray and pd.Series objects that correspond to x and x_with_nan"
   ]
  },
  {
   "cell_type": "code",
   "execution_count": 6,
   "id": "098d12f5",
   "metadata": {},
   "outputs": [],
   "source": [
    "y, y_with_nan = np.array(x), np.array(x_with_nan)\n",
    "z, z_with_nan = pd.Series(x), pd.Series(x_with_nan)"
   ]
  },
  {
   "cell_type": "code",
   "execution_count": 7,
   "id": "51dc91df",
   "metadata": {},
   "outputs": [
    {
     "data": {
      "text/plain": [
       "array([ 8. ,  1. ,  2.5,  4. , 28. ])"
      ]
     },
     "execution_count": 7,
     "metadata": {},
     "output_type": "execute_result"
    }
   ],
   "source": [
    "y"
   ]
  },
  {
   "cell_type": "code",
   "execution_count": 8,
   "id": "ef189bd3",
   "metadata": {},
   "outputs": [
    {
     "data": {
      "text/plain": [
       "array([ 8. ,  1. ,  2.5,  nan,  4. , 28. ])"
      ]
     },
     "execution_count": 8,
     "metadata": {},
     "output_type": "execute_result"
    }
   ],
   "source": [
    "y_with_nan"
   ]
  },
  {
   "cell_type": "code",
   "execution_count": 9,
   "id": "54b65741",
   "metadata": {},
   "outputs": [
    {
     "data": {
      "text/plain": [
       "0     8.0\n",
       "1     1.0\n",
       "2     2.5\n",
       "3     4.0\n",
       "4    28.0\n",
       "dtype: float64"
      ]
     },
     "execution_count": 9,
     "metadata": {},
     "output_type": "execute_result"
    }
   ],
   "source": [
    "z"
   ]
  },
  {
   "cell_type": "code",
   "execution_count": 10,
   "id": "6f6bca20",
   "metadata": {},
   "outputs": [
    {
     "data": {
      "text/plain": [
       "0     8.0\n",
       "1     1.0\n",
       "2     2.5\n",
       "3     NaN\n",
       "4     4.0\n",
       "5    28.0\n",
       "dtype: float64"
      ]
     },
     "execution_count": 10,
     "metadata": {},
     "output_type": "execute_result"
    }
   ],
   "source": [
    "z_with_nan"
   ]
  },
  {
   "cell_type": "markdown",
   "id": "488efe98",
   "metadata": {},
   "source": [
    "### Measures of Central Tendency\n",
    "\n",
    "The **measures of central tendency** show the central or middle values of datasets. There are several definitions of what's considered to be the centre of a dataset. In this tutorial we will identify the following:\n",
    "- Mean\n",
    "- Weighted mean\n",
    "- Geometric mean\n",
    "- Harmonic mean\n",
    "- Median\n",
    "- Mode"
   ]
  },
  {
   "cell_type": "markdown",
   "id": "47fb7534",
   "metadata": {},
   "source": [
    "##### Mean\n",
    "The **sample mean**, also called the **sample arithmetic mean** or simply the **average**, is the arithmetic average of all items in a dataset. You can calculate the mean in pure Python using `sum()` and `len()` without importing libraries:"
   ]
  },
  {
   "cell_type": "code",
   "execution_count": 11,
   "id": "6065bbf7",
   "metadata": {},
   "outputs": [
    {
     "data": {
      "text/plain": [
       "8.7"
      ]
     },
     "execution_count": 11,
     "metadata": {},
     "output_type": "execute_result"
    }
   ],
   "source": [
    "mean_ = sum(x) / len(x)\n",
    "mean_"
   ]
  },
  {
   "cell_type": "markdown",
   "id": "3e4d123a",
   "metadata": {},
   "source": [
    "Although this is clean and elegant, you can also apply built-in Python statistics functions:"
   ]
  },
  {
   "cell_type": "code",
   "execution_count": 12,
   "id": "1fc19f76",
   "metadata": {},
   "outputs": [
    {
     "data": {
      "text/plain": [
       "8.7"
      ]
     },
     "execution_count": 12,
     "metadata": {},
     "output_type": "execute_result"
    }
   ],
   "source": [
    "mean_ = statistics.mean(x)\n",
    "mean_"
   ]
  },
  {
   "cell_type": "markdown",
   "id": "467989df",
   "metadata": {},
   "source": [
    "`fmean()` was added as part of Python 3.8 as a faster alternative to `mean()`"
   ]
  },
  {
   "cell_type": "code",
   "execution_count": 13,
   "id": "44801e1d",
   "metadata": {},
   "outputs": [
    {
     "data": {
      "text/plain": [
       "8.7"
      ]
     },
     "execution_count": 13,
     "metadata": {},
     "output_type": "execute_result"
    }
   ],
   "source": [
    "mean_ = statistics.fmean(x)\n",
    "mean_"
   ]
  },
  {
   "cell_type": "markdown",
   "id": "4412e3f2",
   "metadata": {},
   "source": [
    "However, if there are nan values among your data, then statistics.mean() and statistics.fmean() will return nan as the output:"
   ]
  },
  {
   "cell_type": "code",
   "execution_count": 14,
   "id": "c33e2b24",
   "metadata": {},
   "outputs": [
    {
     "data": {
      "text/plain": [
       "nan"
      ]
     },
     "execution_count": 14,
     "metadata": {},
     "output_type": "execute_result"
    }
   ],
   "source": [
    "mean_ = statistics.mean(x_with_nan)\n",
    "mean_"
   ]
  },
  {
   "cell_type": "code",
   "execution_count": 15,
   "id": "6c656c31",
   "metadata": {},
   "outputs": [
    {
     "data": {
      "text/plain": [
       "nan"
      ]
     },
     "execution_count": 15,
     "metadata": {},
     "output_type": "execute_result"
    }
   ],
   "source": [
    "mean_ = statistics.fmean(x_with_nan)\n",
    "mean_"
   ]
  },
  {
   "cell_type": "markdown",
   "id": "56278091",
   "metadata": {},
   "source": [
    "This behaviour is consistent with the the behaviour of `sum()` because `sum(x_with_nan)` also returns nan"
   ]
  },
  {
   "cell_type": "markdown",
   "id": "0d51dd69",
   "metadata": {},
   "source": [
    "If you use NumPy you can get the mean with `np.mean()`:"
   ]
  },
  {
   "cell_type": "code",
   "execution_count": 16,
   "id": "3f7af648",
   "metadata": {},
   "outputs": [
    {
     "data": {
      "text/plain": [
       "8.7"
      ]
     },
     "execution_count": 16,
     "metadata": {},
     "output_type": "execute_result"
    }
   ],
   "source": [
    "mean_ = np.mean(y)\n",
    "mean_"
   ]
  },
  {
   "cell_type": "markdown",
   "id": "acd2c527",
   "metadata": {},
   "source": [
    "In the example above, `mean()` is a function but you can also use the corresponding method `.mean()` as well:"
   ]
  },
  {
   "cell_type": "code",
   "execution_count": 17,
   "id": "568f638b",
   "metadata": {},
   "outputs": [
    {
     "data": {
      "text/plain": [
       "8.7"
      ]
     },
     "execution_count": 17,
     "metadata": {},
     "output_type": "execute_result"
    }
   ],
   "source": [
    "mean_ = y.mean()\n",
    "mean_"
   ]
  },
  {
   "cell_type": "markdown",
   "id": "40163974",
   "metadata": {},
   "source": [
    "Equivalently, using this with nan values will give you nan"
   ]
  },
  {
   "cell_type": "code",
   "execution_count": 19,
   "id": "3262d66e",
   "metadata": {},
   "outputs": [
    {
     "data": {
      "text/plain": [
       "nan"
      ]
     },
     "execution_count": 19,
     "metadata": {},
     "output_type": "execute_result"
    }
   ],
   "source": [
    "mean_ = y_with_nan.mean()\n",
    "mean_"
   ]
  },
  {
   "cell_type": "markdown",
   "id": "faff063c",
   "metadata": {},
   "source": [
    "You often don't need/want to get a nan value as a result. If you prefer to ignore nan values then you can use np.nanmean(). This simply ignores all nan values. It returns the same value as mean() if you were to apply it to the dataset without the nan values"
   ]
  },
  {
   "cell_type": "code",
   "execution_count": 20,
   "id": "c4c9fbbd",
   "metadata": {},
   "outputs": [
    {
     "data": {
      "text/plain": [
       "8.7"
      ]
     },
     "execution_count": 20,
     "metadata": {},
     "output_type": "execute_result"
    }
   ],
   "source": [
    "np.nanmean(y_with_nan)"
   ]
  },
  {
   "cell_type": "markdown",
   "id": "98010bb1",
   "metadata": {},
   "source": [
    "`pd.Series` objects also have the method .mean():"
   ]
  },
  {
   "cell_type": "code",
   "execution_count": 21,
   "id": "a4d3eda9",
   "metadata": {},
   "outputs": [
    {
     "data": {
      "text/plain": [
       "8.7"
      ]
     },
     "execution_count": 21,
     "metadata": {},
     "output_type": "execute_result"
    }
   ],
   "source": [
    "mean_ = z.mean()\n",
    "mean_"
   ]
  },
  {
   "cell_type": "markdown",
   "id": "f64e1db8",
   "metadata": {},
   "source": [
    "As you can see it's used similarly as in the case of NumPy. However, `.mean()` from Pandas ignores nan values by default. This is the result of the default value of the optional parameter `skipna`. You can change this parameter to modify the behaviour."
   ]
  },
  {
   "cell_type": "code",
   "execution_count": 22,
   "id": "500d17fb",
   "metadata": {},
   "outputs": [
    {
     "data": {
      "text/plain": [
       "8.7"
      ]
     },
     "execution_count": 22,
     "metadata": {},
     "output_type": "execute_result"
    }
   ],
   "source": [
    "z_with_nan.mean()"
   ]
  },
  {
   "cell_type": "markdown",
   "id": "3082d701",
   "metadata": {},
   "source": [
    "##### Weighted Mean\n",
    "The **weighted mean** also called the **weighted arithmetic mean** or **weighted average** is a generalisation of the arithmetic mean that enables you to define the relative contribution of each data point to the result.\n",
    "\n",
    "You define one **weight w<sub>i</sub>** for each data point x<sub>i</sub> of the dataset x, where *i* = 1, 2, ..., *n* and *n* is the number of items in x. Then you multiply each data point with the corresponding weight, sum all the products, and divide the obtained sum with the sum of weights.\n",
    "\n",
    "The weighted mean is very handy when you need the mean of a dataset containing items that occur with given relative frequencies. For example, say that you have a set in which 20% of all items are equal to 2, 50% of thje items are equal to 4, and the remaining 30% of the items are equal to 8. You can calculate the mean of such a set like this:"
   ]
  },
  {
   "cell_type": "code",
   "execution_count": 23,
   "id": "a34d0a27",
   "metadata": {},
   "outputs": [
    {
     "data": {
      "text/plain": [
       "4.8"
      ]
     },
     "execution_count": 23,
     "metadata": {},
     "output_type": "execute_result"
    }
   ],
   "source": [
    "0.2 * 2 + 0.5 * 4 + 0.3 *  8"
   ]
  },
  {
   "cell_type": "markdown",
   "id": "0c92f363",
   "metadata": {},
   "source": [
    "You can implement the weighted mean in pure Python by combining `sum()` with either `range()` or `zip()`"
   ]
  },
  {
   "cell_type": "code",
   "execution_count": 25,
   "id": "70aab9df",
   "metadata": {},
   "outputs": [],
   "source": [
    "x = [8.0, 1, 2.5, 4, 28.0]\n",
    "w = [0.1, 0.2, 0.3, 0.25, 0.15]"
   ]
  },
  {
   "cell_type": "code",
   "execution_count": 27,
   "id": "1ce51743",
   "metadata": {},
   "outputs": [
    {
     "data": {
      "text/plain": [
       "6.95"
      ]
     },
     "execution_count": 27,
     "metadata": {},
     "output_type": "execute_result"
    }
   ],
   "source": [
    "w_mean = sum(w[i] * x[i] for i in range(len(x))) / sum(w)\n",
    "w_mean"
   ]
  },
  {
   "cell_type": "code",
   "execution_count": 28,
   "id": "50c7d472",
   "metadata": {},
   "outputs": [
    {
     "data": {
      "text/plain": [
       "6.95"
      ]
     },
     "execution_count": 28,
     "metadata": {},
     "output_type": "execute_result"
    }
   ],
   "source": [
    "w_mean = sum(x_ * w_ for (x_, w_) in zip(x, w)) / sum(w)\n",
    "w_mean"
   ]
  },
  {
   "cell_type": "code",
   "execution_count": null,
   "id": "7663d015",
   "metadata": {},
   "outputs": [],
   "source": []
  }
 ],
 "metadata": {
  "kernelspec": {
   "display_name": "Python 3 (ipykernel)",
   "language": "python",
   "name": "python3"
  },
  "language_info": {
   "codemirror_mode": {
    "name": "ipython",
    "version": 3
   },
   "file_extension": ".py",
   "mimetype": "text/x-python",
   "name": "python",
   "nbconvert_exporter": "python",
   "pygments_lexer": "ipython3",
   "version": "3.8.12"
  }
 },
 "nbformat": 4,
 "nbformat_minor": 5
}
